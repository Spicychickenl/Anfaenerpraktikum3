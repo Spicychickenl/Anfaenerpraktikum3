{
 "cells": [
  {
   "cell_type": "code",
   "execution_count": 8,
   "metadata": {},
   "outputs": [],
   "source": [
    "import numpy as np\n"
   ]
  },
  {
   "cell_type": "code",
   "execution_count": 17,
   "metadata": {},
   "outputs": [],
   "source": [
    "Ub_maxima = np.array([19.9,37.8,56.2])\n",
    "Ub_minima = np.array([26.0,46.5,67.2])\n",
    "Ub_maxima_diff = []\n",
    "Ub_minima_diff = []\n",
    "Ub_01_maxima = Ub_maxima/10\n",
    "Ub_01_minima = Ub_minima/10\n"
   ]
  },
  {
   "cell_type": "code",
   "execution_count": 14,
   "metadata": {},
   "outputs": [
    {
     "data": {
      "text/plain": [
       "array([1.99, 3.78, 5.62])"
      ]
     },
     "execution_count": 14,
     "metadata": {},
     "output_type": "execute_result"
    }
   ],
   "source": [
    "Ub_01_maxima"
   ]
  },
  {
   "cell_type": "code",
   "execution_count": 11,
   "metadata": {},
   "outputs": [],
   "source": [
    "dUmax = np.average(Ub_maxima_diff)\n",
    "dUmin = np.average(Ub_minima_diff)"
   ]
  },
  {
   "cell_type": "code",
   "execution_count": 34,
   "metadata": {},
   "outputs": [],
   "source": [
    "Lesefehler = 0.04\n",
    "Spannungsart = 'Gleichspannung'\n",
    "Bereich = 20\n",
    "Auflösung = 0.01\n",
    "def unsicherheitmultimiter(Spannungsart,Bereich,Auflösung,Data):\n",
    "    if Spannungsart == 'Wechselspannung':\n",
    "        if Bereich in [200,250]:\n",
    "            Unsicherheit = Data*0.015+Auflösung*8\n",
    "        if Bereich in [4,40]:\n",
    "            Unsicherheit = Data*0.016+Auflösung*4\n",
    "        if Bereich == 0.4:\n",
    "            Unsicherheit = Data*0.02+Auflösung*10\n",
    "    if Spannungsart == 'Gleichspannung':\n",
    "        if Bereich in [0.2,2,20,200]:\n",
    "            Unsicherheit = Data*0.005+Auflösung*8\n",
    "        if Bereich in [0.4,4,40,250]:\n",
    "            Unsicherheit = Data*0.008+Auflösung*8\n",
    "    else:\n",
    "        print('falsche Spannungsart')\n",
    "    return Unsicherheit    "
   ]
  },
  {
   "cell_type": "code",
   "execution_count": 35,
   "metadata": {},
   "outputs": [],
   "source": [
    "Fehler_ub_01_maxima = []\n",
    "Fehler_ub_01_minima = []\n",
    "for x,y in zip(Ub_01_maxima,Ub_01_minima):\n",
    "    Fehler_ub_01_maxima.append(np.sqrt(unsicherheitmultimiter(Spannungsart=Spannungsart,Bereich=Bereich,Auflösung=Auflösung,Data=x)**2+Lesefehler**2))\n",
    "    Fehler_ub_01_minima.append(np.sqrt(unsicherheitmultimiter(Spannungsart=Spannungsart,Bereich=Bereich,Auflösung=Auflösung,Data=y)**2+Lesefehler**2))"
   ]
  },
  {
   "cell_type": "code",
   "execution_count": 37,
   "metadata": {},
   "outputs": [
    {
     "data": {
      "text/plain": [
       "[0.09844288953499893, 0.1066827539951983, 0.11526322049986285]"
      ]
     },
     "execution_count": 37,
     "metadata": {},
     "output_type": "execute_result"
    }
   ],
   "source": [
    "Fehler_ub_01_maxima ="
   ]
  },
  {
   "cell_type": "code",
   "execution_count": 56,
   "metadata": {},
   "outputs": [
    {
     "data": {
      "text/plain": [
       "array([1.50031872, 1.63601719])"
      ]
     },
     "execution_count": 56,
     "metadata": {},
     "output_type": "execute_result"
    }
   ],
   "source": [
    "Fehler_Ub_minima_diff = []\n",
    "Fehler_Ub_maxima_diff = []\n",
    "for x in range(2):\n",
    "    Fehler_Ub_maxima_diff.append(np.sqrt(Fehler_ub_01_maxima[x]**2+Fehler_ub_01_maxima[x+1]**2))\n",
    "    Fehler_Ub_minima_diff.append(np.sqrt(Fehler_ub_01_minima[x]**2+Fehler_ub_01_minima[x+1]**2))\n",
    "Fehler_Ub_maxima_diff = np.array(Fehler_Ub_maxima_diff)*10;Fehler_Ub_minima_diff = np.array(Fehler_Ub_minima_diff)*10\n",
    "Fehler_Ub_minima_diff\n"
   ]
  },
  {
   "attachments": {},
   "cell_type": "markdown",
   "metadata": {},
   "source": [
    "Joining two Arrays together"
   ]
  },
  {
   "cell_type": "code",
   "execution_count": 55,
   "metadata": {},
   "outputs": [
    {
     "data": {
      "text/plain": [
       "array([1.4516271 , 1.57056741, 1.50031872, 1.63601719])"
      ]
     },
     "execution_count": 55,
     "metadata": {},
     "output_type": "execute_result"
    }
   ],
   "source": [
    "Difference = np.array(Ub_maxima_diff + Ub_minima_diff)\n",
    "Difference\n",
    "Fehler_Difference = np.concatenate((Fehler_Ub_maxima_diff,Fehler_Ub_minima_diff))\n",
    "Fehler_Difference"
   ]
  },
  {
   "cell_type": "code",
   "execution_count": null,
   "metadata": {},
   "outputs": [],
   "source": []
  }
 ],
 "metadata": {
  "kernelspec": {
   "display_name": "base",
   "language": "python",
   "name": "python3"
  },
  "language_info": {
   "codemirror_mode": {
    "name": "ipython",
    "version": 3
   },
   "file_extension": ".py",
   "mimetype": "text/x-python",
   "name": "python",
   "nbconvert_exporter": "python",
   "pygments_lexer": "ipython3",
   "version": "3.9.7"
  },
  "orig_nbformat": 4
 },
 "nbformat": 4,
 "nbformat_minor": 2
}
