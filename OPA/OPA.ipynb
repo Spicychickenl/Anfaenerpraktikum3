{
 "cells": [
  {
   "cell_type": "code",
   "execution_count": 3,
   "metadata": {},
   "outputs": [],
   "source": [
    "import numpy as np\n",
    "import pandas as pds\n",
    "\n"
   ]
  },
  {
   "cell_type": "markdown",
   "metadata": {},
   "source": [
    "# Try to use LaTex hier $x^2$\n"
   ]
  },
  {
   "cell_type": "code",
   "execution_count": 4,
   "metadata": {},
   "outputs": [],
   "source": [
    "from OPAdata import *"
   ]
  },
  {
   "cell_type": "code",
   "execution_count": 5,
   "metadata": {},
   "outputs": [],
   "source": [
    "def An_Focus(k,l,h):\n",
    "    return (k+l-h)/2"
   ]
  },
  {
   "attachments": {},
   "cell_type": "markdown",
   "metadata": {},
   "source": [
    "Calculations for Focus from b and f with Antokolimation methode\n",
    "the results are An_bf and An_gf"
   ]
  },
  {
   "cell_type": "code",
   "execution_count": 6,
   "metadata": {},
   "outputs": [],
   "source": [
    "An_bf_list = []\n",
    "An_gf_list = []\n",
    "for x,y in zip (A2_BK,A2_BL):\n",
    "    An_bf_list.append(An_Focus(x,y,0))\n",
    "for x,y in zip (A2_GK,A2_GL):\n",
    "    An_gf_list.append(An_Focus(x,y,0))\n",
    "An_bf = np.average(An_bf_list)\n",
    "An_gf = np.average(An_gf_list)\n"
   ]
  },
  {
   "cell_type": "code",
   "execution_count": 10,
   "metadata": {},
   "outputs": [
    {
     "data": {
      "text/plain": [
       "7.400000000000001"
      ]
     },
     "execution_count": 10,
     "metadata": {},
     "output_type": "execute_result"
    }
   ],
   "source": [
    "An_gf"
   ]
  },
  {
   "attachments": {},
   "cell_type": "markdown",
   "metadata": {},
   "source": [
    "Unsicherheit Aufgabe 2"
   ]
  },
  {
   "cell_type": "code",
   "execution_count": 8,
   "metadata": {},
   "outputs": [],
   "source": [
    "U_bk = np.sqrt((np.std(A2_BK)*0.51)**2+0.05**2)\n",
    "U_bl = np.sqrt((np.std(A2_BL)*0.51)**2+0.05**2)\n",
    "U_gk = np.sqrt((np.std(A2_GK)*0.51)**2+0.05**2)\n",
    "U_gl = np.sqrt((np.std(A2_GL)*0.51)**2+0.05**2)\n",
    "upos = 0.05\n",
    "# standardkoeff = 0.51\n",
    "# unsicherheit durch Gaußsche Fehlerfortpflantzung\n",
    "U_bf = np.sqrt((0.5*U_bk)**2+(0.5*U_bl)**2)\n",
    "U_gf = np.sqrt((0.5*U_gk)**2+(0.5*U_gl)**2)"
   ]
  },
  {
   "cell_type": "code",
   "execution_count": 13,
   "metadata": {},
   "outputs": [
    {
     "data": {
      "text/plain": [
       "0.06611505123646208"
      ]
     },
     "execution_count": 13,
     "metadata": {},
     "output_type": "execute_result"
    }
   ],
   "source": [
    "U_gf"
   ]
  },
  {
   "attachments": {},
   "cell_type": "markdown",
   "metadata": {},
   "source": [
    "Calculations for Focus from b and f with Bessel methode\n",
    "the results are Bessel_bf and Bessel_gf"
   ]
  },
  {
   "cell_type": "code",
   "execution_count": 14,
   "metadata": {},
   "outputs": [],
   "source": [
    "def Bessel_focus(e,d,h):\n",
    "    return 0.25*((e-h)-d**2/(e-h))\n",
    "eb = 60.0\n",
    "eg = 50.0\n"
   ]
  },
  {
   "cell_type": "code",
   "execution_count": 15,
   "metadata": {},
   "outputs": [],
   "source": [
    "Db = []; Dg = []\n",
    "for x,y,a,b in zip(A3_br,A3_bl,A3_gr,A3_gl):\n",
    "    Db.append(x-y)\n",
    "    Dg.append(a-b)\n",
    "    "
   ]
  },
  {
   "cell_type": "code",
   "execution_count": 16,
   "metadata": {},
   "outputs": [],
   "source": [
    "Bessel_bf_list = [];Bessel_gf_list = []\n",
    "for db,dg in zip(Db,Dg):\n",
    "    Bessel_bf_list.append(Bessel_focus(eb,db,0.0))\n",
    "    Bessel_gf_list.append(Bessel_focus(eg,dg,0.0))\n",
    "    "
   ]
  },
  {
   "cell_type": "code",
   "execution_count": 17,
   "metadata": {},
   "outputs": [],
   "source": [
    "Bessel_bf = np.average(Bessel_bf_list)\n",
    "Bessel_gf = np.average(Bessel_gf_list)\n"
   ]
  },
  {
   "cell_type": "code",
   "execution_count": 19,
   "metadata": {},
   "outputs": [
    {
     "data": {
      "text/plain": [
       "7.619839999999999"
      ]
     },
     "execution_count": 19,
     "metadata": {},
     "output_type": "execute_result"
    }
   ],
   "source": [
    "Bessel_gf"
   ]
  },
  {
   "attachments": {},
   "cell_type": "markdown",
   "metadata": {},
   "source": [
    "Unsicherheit Aufgabe 3"
   ]
  },
  {
   "cell_type": "code",
   "execution_count": 26,
   "metadata": {},
   "outputs": [],
   "source": [
    "Ud_b = np.sqrt((np.sqrt(2)*0.05)**2+(np.std(Db)*0.51)**2)\n",
    "Ud_g = np.sqrt((np.sqrt(2)*0.05)**2+(np.std(Dg)*0.51)**2)\n",
    "b_av = np.std(Db)\n",
    "g_av = np.std(Dg)\n",
    "Ub = np.sqrt(((1/4+1/4*b**2/(eb)**2)*0.05)**2+(0.5*b_av/eb*Ud_b)**2)\n",
    "Ug = np.sqrt(((1/4+1/4*b**2/(eg)**2)*0.05)**2+(0.5*g_av/eg*Ud_g)**2)\n"
   ]
  },
  {
   "cell_type": "code",
   "execution_count": 28,
   "metadata": {},
   "outputs": [
    {
     "data": {
      "text/plain": [
       "0.014489680206136368"
      ]
     },
     "execution_count": 28,
     "metadata": {},
     "output_type": "execute_result"
    }
   ],
   "source": [
    "Ug"
   ]
  },
  {
   "attachments": {},
   "cell_type": "markdown",
   "metadata": {},
   "source": [
    "Here the combi methode for a linsensystem"
   ]
  },
  {
   "cell_type": "code",
   "execution_count": 29,
   "metadata": {},
   "outputs": [],
   "source": [
    "def Kombi_focus(e,k,l,d):\n",
    "    return 1/2*(np.sqrt((e-k-l)**2-d**2))\n",
    "def Kombi_h(e,k,l,d):\n",
    "    return k+l-np.sqrt((e-k-l)**2-d**2)\n",
    "e_ls = 115.0"
   ]
  },
  {
   "cell_type": "code",
   "execution_count": 31,
   "metadata": {},
   "outputs": [],
   "source": [
    "ls_d_list = []\n",
    "for x,y in zip(ls_right,ls_left):\n",
    "    ls_d_list.append(x-y)\n",
    "    "
   ]
  },
  {
   "cell_type": "code",
   "execution_count": 32,
   "metadata": {},
   "outputs": [],
   "source": [
    "ls_f_list = []; ls_h_list = []\n",
    "for k,l,d in zip(ls_k,ls_l,ls_d_list):\n",
    "    ls_f_list.append(Kombi_focus(e_ls,k,l,d))\n",
    "    ls_h_list.append(Kombi_h(e_ls,k,l,d))\n"
   ]
  },
  {
   "cell_type": "code",
   "execution_count": 37,
   "metadata": {},
   "outputs": [
    {
     "data": {
      "text/plain": [
       "2.2611899674374714"
      ]
     },
     "execution_count": 37,
     "metadata": {},
     "output_type": "execute_result"
    }
   ],
   "source": [
    "np.average(ls_h_list)"
   ]
  },
  {
   "attachments": {},
   "cell_type": "markdown",
   "metadata": {},
   "source": [
    "Unsicherheit Aufgabe 4"
   ]
  },
  {
   "cell_type": "code",
   "execution_count": 34,
   "metadata": {},
   "outputs": [],
   "source": [
    "Ue = 0.05\n",
    "Uk = np.sqrt((np.std(ls_k)*0.51)**2+0.05**2)\n",
    "Ul = np.sqrt((np.std(ls_l)*0.51)**2+0.05**2)\n",
    "Uleft = np.sqrt((np.std(ls_left)*0.51)**2+0.05**2)\n",
    "Uright = np.sqrt((np.std(ls_right)*0.51)**2+0.05**2)\n",
    "Ud = np.sqrt(Uleft**2+Uright**2)\n",
    "d_av = np.average(ls_d_list)\n",
    "k_av = np.average(ls_k)\n",
    "l_av = np.average(ls_l)\n",
    "konst = (e_ls-k_av-l_av)/np.sqrt((e_ls-k_av-l_av)**2-d_av**2)\n",
    "ls_Uf = np.sqrt((1/2*konst*Ul)**2+(1/2*konst*Uk)**2+(1/2*konst*Ul)**2+(1/2*d_av/np.sqrt((e_ls-k_av-l_av)**2-d_av**2)*Ud)**2)\n",
    "ls_Uh = np.sqrt(((1-konst)*Ul)**2+((1-konst)*Uk)**2+(konst*Ul)**2+(d_av/np.sqrt((e_ls-k_av-l_av)**2-d_av**2)*Ud)**2)"
   ]
  },
  {
   "cell_type": "code",
   "execution_count": 36,
   "metadata": {},
   "outputs": [
    {
     "data": {
      "text/plain": [
       "0.3154788025355143"
      ]
     },
     "execution_count": 36,
     "metadata": {},
     "output_type": "execute_result"
    }
   ],
   "source": [
    "ls_Uh"
   ]
  },
  {
   "cell_type": "code",
   "execution_count": null,
   "metadata": {},
   "outputs": [],
   "source": []
  }
 ],
 "metadata": {
  "kernelspec": {
   "display_name": "base",
   "language": "python",
   "name": "python3"
  },
  "language_info": {
   "codemirror_mode": {
    "name": "ipython",
    "version": 3
   },
   "file_extension": ".py",
   "mimetype": "text/x-python",
   "name": "python",
   "nbconvert_exporter": "python",
   "pygments_lexer": "ipython3",
   "version": "3.9.7"
  },
  "orig_nbformat": 4,
  "vscode": {
   "interpreter": {
    "hash": "bb2bdea2b16918e1d28c100ad4ab3924f6223693ec1c373de4cc10811825bbad"
   }
  }
 },
 "nbformat": 4,
 "nbformat_minor": 2
}
